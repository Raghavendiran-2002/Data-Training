{
 "cells": [
  {
   "cell_type": "markdown",
   "id": "b085d7b8-273b-4697-8b96-70904de3985f",
   "metadata": {},
   "source": [
    "# Spark Assignment"
   ]
  },
  {
   "cell_type": "markdown",
   "id": "3a61fbff-1e37-4a20-8869-a6911e9a85f9",
   "metadata": {},
   "source": [
    "#### Import Packages"
   ]
  },
  {
   "cell_type": "code",
   "execution_count": 29,
   "id": "bfbbd674-b25e-46bf-93f2-cbbe240309c5",
   "metadata": {},
   "outputs": [],
   "source": [
    "from pyspark.sql import SparkSession\n",
    "from pyspark.sql.functions import sum, col, to_date, when, date_format, month\n",
    "import pyspark.sql.functions as F\n",
    "from pyspark.sql import types \n",
    "from pyspark.sql.window import Window"
   ]
  },
  {
   "cell_type": "markdown",
   "id": "48122903-a33d-413f-bcfc-210185039d65",
   "metadata": {},
   "source": [
    "#### Import File"
   ]
  },
  {
   "cell_type": "code",
   "execution_count": 30,
   "id": "fc9b21e2-3744-46bf-9db2-afa6d6ef2e24",
   "metadata": {},
   "outputs": [],
   "source": [
    "spark = SparkSession.builder.appName(\"covid\").getOrCreate()\n",
    "filepath = \"/Users/raghavendiran/Desktop/Data/Presidio/PySpark/complete.csv\""
   ]
  },
  {
   "cell_type": "markdown",
   "id": "36a7cf0b-3f41-411c-8fb9-7240f06e020b",
   "metadata": {},
   "source": [
    "#### Create DF"
   ]
  },
  {
   "cell_type": "code",
   "execution_count": 31,
   "id": "88665c89-01f0-4221-a3d9-66cf4d33048f",
   "metadata": {},
   "outputs": [],
   "source": [
    "df_csv = spark.read.format(\"csv\") \\\n",
    "            .option(\"header\", True) \\\n",
    "            .option(\"multiLine\", True) \\\n",
    "            .option(\"ignoreLeadingWhiteSpace\",True) \\\n",
    "            .option(\"ignoreTrailingWhiteSpace\",True) \\\n",
    "            .option(\"escape\", \"\\\\\") \\\n",
    "            .option(\"quote\", \"\\\"\") \\\n",
    "            .load(filepath)"
   ]
  },
  {
   "cell_type": "code",
   "execution_count": 32,
   "id": "6782f7be-c066-4f91-adab-1e1a9788f6ac",
   "metadata": {},
   "outputs": [
    {
     "name": "stdout",
     "output_type": "stream",
     "text": [
      "root\n",
      " |-- Date: string (nullable = true)\n",
      " |-- Name of State / UT: string (nullable = true)\n",
      " |-- Latitude: string (nullable = true)\n",
      " |-- Longitude: string (nullable = true)\n",
      " |-- Total Confirmed cases: string (nullable = true)\n",
      " |-- Death: string (nullable = true)\n",
      " |-- Cured/Discharged/Migrated: string (nullable = true)\n",
      " |-- New cases: string (nullable = true)\n",
      " |-- New deaths: string (nullable = true)\n",
      " |-- New recovered: string (nullable = true)\n",
      "\n"
     ]
    }
   ],
   "source": [
    "df_csv.printSchema()"
   ]
  },
  {
   "cell_type": "markdown",
   "id": "e1055f2c-66dc-4625-aa6e-e0c46c4b57b1",
   "metadata": {},
   "source": [
    "### Convert all state names to lowercase"
   ]
  },
  {
   "cell_type": "code",
   "execution_count": 33,
   "id": "5ab93893-d4f3-4030-83df-ab2efc856375",
   "metadata": {},
   "outputs": [
    {
     "name": "stdout",
     "output_type": "stream",
     "text": [
      "+--------------------+\n",
      "|               state|\n",
      "+--------------------+\n",
      "|               delhi|\n",
      "|         maharashtra|\n",
      "|           meghalaya|\n",
      "|              odisha|\n",
      "|             haryana|\n",
      "|         west bengal|\n",
      "|                 goa|\n",
      "|              punjab|\n",
      "|   jammu and kashmir|\n",
      "|dadra and nagar h...|\n",
      "|           karnataka|\n",
      "|      andhra pradesh|\n",
      "|           telangana|\n",
      "|            nagaland|\n",
      "|               bihar|\n",
      "|      madhya pradesh|\n",
      "|           jharkhand|\n",
      "|               assam|\n",
      "|              kerala|\n",
      "|          tamil nadu|\n",
      "+--------------------+\n",
      "only showing top 20 rows\n",
      "\n"
     ]
    }
   ],
   "source": [
    "lowercase_state_names = df_csv.withColumn('state', F.lower(F.col(\"Name of State / UT\")))\n",
    "lowercase_state_names.select(\"state\").distinct().show()"
   ]
  },
  {
   "cell_type": "markdown",
   "id": "effc16ac-a176-4d32-90ec-3c1a7ec476f8",
   "metadata": {},
   "source": [
    "### The day had a greater number of covid cases"
   ]
  },
  {
   "cell_type": "code",
   "execution_count": 34,
   "id": "ae3e3e61-ce21-4dc9-b22c-9c1acd3e83c1",
   "metadata": {},
   "outputs": [
    {
     "name": "stdout",
     "output_type": "stream",
     "text": [
      "+----------+--------------+\n",
      "|      Date|sum_total_case|\n",
      "+----------+--------------+\n",
      "|2020-08-06|     1964536.0|\n",
      "+----------+--------------+\n",
      "\n"
     ]
    }
   ],
   "source": [
    "greater_covid_cases = df_csv.groupBy(\"Date\").agg(F.sum(\"Total Confirmed cases\").alias(\"sum_total_case\"))\n",
    "window_spec = Window.orderBy(F.col(\"sum_total_case\").desc())\n",
    "greater_covid_cases = greater_covid_cases.withColumn(\"recency\", F.row_number().over(window_spec)).filter(F.col('recency') == 1).drop('recency')\n",
    "greater_covid_cases.show()"
   ]
  },
  {
   "cell_type": "markdown",
   "id": "d0cb3692-4822-4efe-ac66-f181dfd7e202",
   "metadata": {},
   "source": [
    "### The state has the second-largest number of covid cases"
   ]
  },
  {
   "cell_type": "code",
   "execution_count": 35,
   "id": "1b868a61-153c-43c7-9e76-7fb0447cc84b",
   "metadata": {},
   "outputs": [
    {
     "name": "stdout",
     "output_type": "stream",
     "text": [
      "+------------------+--------------+\n",
      "|Name of State / UT|sum_total_case|\n",
      "+------------------+--------------+\n",
      "|        Tamil Nadu|     7847083.0|\n",
      "+------------------+--------------+\n",
      "\n"
     ]
    }
   ],
   "source": [
    "second_largest_covid_cases = df_csv.groupBy(\"Name of State / UT\").agg(F.sum(\"Total Confirmed cases\").alias(\"sum_total_case\"))\n",
    "window_spec = Window.orderBy(F.col(\"sum_total_case\").desc())\n",
    "second_largest_covid_cases = second_largest_covid_cases.withColumn(\"recency\", F.row_number().over(window_spec)).filter(F.col('recency') == 2).drop('recency')\n",
    "second_largest_covid_cases.show()"
   ]
  },
  {
   "cell_type": "markdown",
   "id": "e5f49d34-75b5-447d-a0ba-1c035e1999f4",
   "metadata": {},
   "source": [
    "### Which Union Territory has the least number of death"
   ]
  },
  {
   "cell_type": "code",
   "execution_count": 36,
   "id": "f03d64ca-5263-4362-81a2-4f70deac5782",
   "metadata": {},
   "outputs": [
    {
     "name": "stdout",
     "output_type": "stream",
     "text": [
      "+------------------------------------+---------------+\n",
      "|Name of State / UT                  |sum_total_death|\n",
      "+------------------------------------+---------------+\n",
      "|Union Territory of Jammu and Kashmir|0.0            |\n",
      "+------------------------------------+---------------+\n",
      "\n"
     ]
    }
   ],
   "source": [
    "union_territory_least_death = df_csv.where(F.col('Name of State / UT').like(\"Union Territory%\"))\n",
    "union_territory_least_death = union_territory_least_death.groupBy(\"Name of State / UT\").agg(F.sum(\"Death\").alias(\"sum_total_death\"))\n",
    "window_spec = Window.orderBy(F.col(\"sum_total_death\"))\n",
    "union_territory_least_death = union_territory_least_death.withColumn(\"recency\", F.row_number().over(window_spec)).filter(F.col('recency') == 1).drop('recency')\n",
    "union_territory_least_death.show(truncate=False)"
   ]
  },
  {
   "cell_type": "markdown",
   "id": "d5129606-8bd7-4ddc-a343-4dba748d13da",
   "metadata": {},
   "source": [
    "### The state has the lowest Death to Total Confirmed cases ratio"
   ]
  },
  {
   "cell_type": "code",
   "execution_count": 37,
   "id": "5f1e5779-6a32-48d1-943b-cb87daa08c7a",
   "metadata": {},
   "outputs": [
    {
     "name": "stdout",
     "output_type": "stream",
     "text": [
      "+------------------+---------+\n",
      "|Name of State / UT|avg_ratio|\n",
      "+------------------+---------+\n",
      "|Mizoram           |0.0      |\n",
      "+------------------+---------+\n",
      "\n"
     ]
    }
   ],
   "source": [
    "lowest_death_total_confirmed_cases_ratio = df_csv.withColumn(\"ratio\", F.col(\"Death\")/F.col(\"Total Confirmed cases\"))\n",
    "lowest_death_total_confirmed_cases_ratio = lowest_death_total_confirmed_cases_ratio.groupBy(\"Name of State / UT\").agg(F.avg(\"ratio\").alias(\"avg_ratio\"))\n",
    "window_spec = Window.orderBy(F.col(\"avg_ratio\"))\n",
    "lowest_death_total_confirmed_cases_ratio = lowest_death_total_confirmed_cases_ratio.withColumn(\"recency\", F.row_number().over(window_spec)).filter(F.col('recency') == 1).drop('recency')\n",
    "lowest_death_total_confirmed_cases_ratio.show(truncate=False)"
   ]
  },
  {
   "cell_type": "markdown",
   "id": "98b1c596-af86-4808-a2c5-c0c8186c03e1",
   "metadata": {},
   "source": [
    "### Find which month the more Newer recovered cases"
   ]
  },
  {
   "cell_type": "code",
   "execution_count": 38,
   "id": "889ef5a2-4dc6-4141-8664-fa275dc3d191",
   "metadata": {},
   "outputs": [
    {
     "name": "stdout",
     "output_type": "stream",
     "text": [
      "The month with most new recoveries is 'July'\n"
     ]
    }
   ],
   "source": [
    "new_cases_by_month = df_csv.groupBy(date_format('Date','MMMM').alias(\"Month\")).agg(sum(\"New recovered\").alias(\"Total New Recovered\"))\n",
    "most_recover_cases = new_cases_by_month.orderBy(new_cases_by_month[\"Total New Recovered\"].desc()).first()[\"Month\"]\n",
    "print(f\"The month with most new recoveries is '{most_recover_cases}'\")"
   ]
  }
 ],
 "metadata": {
  "kernelspec": {
   "display_name": "Python 3 (ipykernel)",
   "language": "python",
   "name": "python3"
  },
  "language_info": {
   "codemirror_mode": {
    "name": "ipython",
    "version": 3
   },
   "file_extension": ".py",
   "mimetype": "text/x-python",
   "name": "python",
   "nbconvert_exporter": "python",
   "pygments_lexer": "ipython3",
   "version": "3.11.6"
  }
 },
 "nbformat": 4,
 "nbformat_minor": 5
}
